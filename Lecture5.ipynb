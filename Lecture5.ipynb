{
 "metadata": {
  "name": "",
  "signature": "sha256:11f3620a893f9f7be763acebf4f46c1bc2bc23d8c52d495bcbf95e10aae5a0c7"
 },
 "nbformat": 3,
 "nbformat_minor": 0,
 "worksheets": [
  {
   "cells": [
    {
     "cell_type": "markdown",
     "metadata": {},
     "source": [
      "Lecture 5 will Object Oriented Programming (OOP) and will cover classes, instances, constructors, destructors, and methods.\n",
      "\n",
      "The first focus will be *why* you would want to use OOP.\n",
      "\n",
      "Reference\n",
      " * [1] Chapter\n",
      " * [2] Section\n",
      "\n",
      "Some examples taken from *Think like a computer scientist*\n",
      "http://interactivepython.org/runestone/static/thinkcspy/toc.html#t-o-c\n"
     ]
    },
    {
     "cell_type": "heading",
     "level": 1,
     "metadata": {},
     "source": [
      "An appetizer!"
     ]
    },
    {
     "cell_type": "markdown",
     "metadata": {},
     "source": [
      "A very simple class in Python"
     ]
    },
    {
     "cell_type": "code",
     "collapsed": false,
     "input": [
      "class Rectangle:\n",
      "    def __init__(self, x0, x1):\n",
      "        \"\"\" Initiates the rectangle for the given corners \"\"\"\n",
      "        self.x0 = x0\n",
      "        self.x1 = x1\n",
      "    \n",
      "    def compute_area(self):\n",
      "        \"\"\" Computes area of the rectangle \"\"\"\n",
      "        return (self.x0[0] - self.x1[0])*(self.x0[1] - self.x1[1])"
     ],
     "language": "python",
     "metadata": {},
     "outputs": [],
     "prompt_number": 14
    },
    {
     "cell_type": "markdown",
     "metadata": {},
     "source": [
      "Using the simple class"
     ]
    },
    {
     "cell_type": "code",
     "collapsed": false,
     "input": [
      "my_rectangle = Rectangle([1,2], [10,3])"
     ],
     "language": "python",
     "metadata": {},
     "outputs": [],
     "prompt_number": 7
    },
    {
     "cell_type": "code",
     "collapsed": false,
     "input": [
      "print( my_rectangle.compute_area() )"
     ],
     "language": "python",
     "metadata": {},
     "outputs": [
      {
       "output_type": "stream",
       "stream": "stdout",
       "text": [
        "9\n"
       ]
      }
     ],
     "prompt_number": 11
    },
    {
     "cell_type": "markdown",
     "metadata": {},
     "source": [
      "__Classes are the standard way (in many programming languages) to construct object abstractions!__ \n",
      "\n",
      "They are very useful to keep simplicity in more and more complex software."
     ]
    },
    {
     "cell_type": "heading",
     "level": 2,
     "metadata": {},
     "source": [
      "You have been using objects all the time"
     ]
    },
    {
     "cell_type": "markdown",
     "metadata": {},
     "source": [
      "* Strings\n",
      "* Lists, sets, dictionaries\n",
      "* File objects\n",
      "* Numpy arrays\n",
      "* KDTree\n",
      "\n",
      "( some of the stuff above might be implemented slightly different than with a class in Python, but conceptually they are the same )"
     ]
    },
    {
     "cell_type": "heading",
     "level": 1,
     "metadata": {},
     "source": [
      "What's the point with OOP?"
     ]
    },
    {
     "cell_type": "markdown",
     "metadata": {},
     "source": [
      "In OOP the focus is on the creation of objects which contain both data and functionality together.\n",
      "\n",
      "Usually, each object definition corresponds to some object or concept in the real world and the functions that operate on that object correspond to the ways real-world objects interact."
     ]
    },
    {
     "cell_type": "heading",
     "level": 2,
     "metadata": {},
     "source": [
      "And why is that better?"
     ]
    },
    {
     "cell_type": "markdown",
     "metadata": {},
     "source": [
      "After all, one can can just as easily do a\n",
      "\n",
      "```python\n",
      "do_things(object_a, object_b)\n",
      "```\n",
      "instead of\n",
      "```python\n",
      "object_a.do_thing(object_b)\n",
      "```"
     ]
    },
    {
     "cell_type": "heading",
     "level": 2,
     "metadata": {},
     "source": [
      "Several reasons"
     ]
    },
    {
     "cell_type": "markdown",
     "metadata": {},
     "source": [
      " 1. Conceptually better design to \"ask\" objects to perform things, e.g. \n",
      "\n",
      "    ```python\n",
      "    phone.send_sms(\"Hello world!\") # Have the phone send the message\n",
      "    send_sms(phone, \"Hello world!\") # Pass the phone and message to the send_sms function\n",
      "    ```\n",
      " 2. Allows for object specific functionality more conveniently\n",
      "\n",
      "    ```python\n",
      "    if use_microwave:\n",
      "        cooker = Microwave()\n",
      "    else:\n",
      "        cooker = Oven()\n",
      "    ...\n",
      "    cooker.cook(food) # Object specific method is called\n",
      "    cook(cooker, food) # Can we even construct this general function?\n",
      "    ```\n",
      " 3. Inheritance makes methods much more powerful than functions (next lecture)"
     ]
    },
    {
     "cell_type": "heading",
     "level": 2,
     "metadata": {},
     "source": [
      "Sometimes, functions are suitable"
     ]
    },
    {
     "cell_type": "markdown",
     "metadata": {},
     "source": [
      "But sometimes, ordinary functions and procedural programming is the way to go:\n",
      "\n",
      "```python\n",
      "coords = read_coordinate_file('SampleCoordinates.txt')\n",
      "```\n",
      "is perfectly straight forward, and\n",
      "\n",
      "```python\n",
      "def max(a, b):\n",
      "    return a if a > b else b\n",
      "```\n",
      "is a good, general function.\n",
      "\n",
      "If an object doesn't have any data, then it's essentially the same as just a function with a name\n",
      "\n",
      "```python\n",
      "class MyThing:\n",
      "    def do_thing():\n",
      "        ...\n",
      "\n",
      "mything_do_thing() # This will do just as well.\n",
      "```"
     ]
    },
    {
     "cell_type": "heading",
     "level": 2,
     "metadata": {},
     "source": [
      "The best reason for OOP"
     ]
    },
    {
     "cell_type": "markdown",
     "metadata": {},
     "source": [
      "What makes programming with large codes difficult?\n",
      "\n",
      "1. Syntax (how to express the code)?\n",
      "2. Logic (how to solve a tricky problem)?\n",
      "3. State (keeping track of all the variables)?\n",
      "\n",
      "Open up Socrative again! ( room: **dat171** )"
     ]
    },
    {
     "cell_type": "markdown",
     "metadata": {},
     "source": [
      "The right answer is sometimes logic, but often **state** creeps up and becomes a beast to deal with. The human brain can only keep track of so many things simultaneously."
     ]
    },
    {
     "cell_type": "markdown",
     "metadata": {},
     "source": [
      "The solution to this? ***Scope and abstractions!***\n",
      "\n",
      "You have made functions already that hide away details inside a scope."
     ]
    },
    {
     "cell_type": "code",
     "collapsed": false,
     "input": [
      "def numerical_integration(f, span):\n",
      "    \"\"\" Does numerical integration of f over the given span \"\"\"\n",
      "    import numpy as np\n",
      "    xs = np.linspace(span[0], span[1], 100)\n",
      "    s = 0\n",
      "    for i in range(len(xs)-1):\n",
      "        dx = xs[i+1]-xs[i]\n",
      "        x_mid = 0.5*(xs[i]+xs[i+1])\n",
      "        s += dx*f(x_mid)\n",
      "    return s"
     ],
     "language": "python",
     "metadata": {},
     "outputs": [],
     "prompt_number": 32
    },
    {
     "cell_type": "markdown",
     "metadata": {},
     "source": [
      "Calling the function will look very clean. No need to worry about `x_mid` or anything like that."
     ]
    },
    {
     "cell_type": "code",
     "collapsed": false,
     "input": [
      "f = lambda x : x**2              # f(x) = x^2\n",
      "print(  numerical_integration(f, (0, 1))  )  # Analytical answer is 1/3\n",
      "# I only need to keep track of my function 'f' in this scope."
     ],
     "language": "python",
     "metadata": {},
     "outputs": [
      {
       "output_type": "stream",
       "stream": "stdout",
       "text": [
        "0.3333248308\n"
       ]
      }
     ],
     "prompt_number": 37
    },
    {
     "cell_type": "heading",
     "level": 2,
     "metadata": {},
     "source": [
      "Objects and abstractions"
     ]
    },
    {
     "cell_type": "markdown",
     "metadata": {},
     "source": [
      "Creating your own abstractions with objects allows you to hide away details\n",
      "\n",
      "```python\n",
      "x = [[[1.,2.],[3.,4.],[0.,2.]],\n",
      "     [[3.,4.],[2.,0.],[3.,4.]],\n",
      "     [[5.,6.],[1.,1.],[3.,3.]],\n",
      "     ...\n",
      "    ]\n",
      "```\n",
      "`x` is a list of lists of lists of floats."
     ]
    },
    {
     "cell_type": "markdown",
     "metadata": {},
     "source": [
      "```python\n",
      "y = [Triangle(Point(1., 2.), Point(1., 2.), Point(0., 2.)),\n",
      "     Triangle(Point(3., 4.), Point(2., 0.), Point(3., 4.)),\n",
      "     Triangle(Point(5., 6.), Point(1., 1.), Point(3., 3.)),\n",
      "    ...\n",
      "    ]\n",
      "```\n",
      "\n",
      "`y` is a list of triangles.\n",
      "\n",
      "*triangles* vs *list of list of floats*\n",
      "\n",
      "The Triangle object *shows intent*, which is the best thing code can do to avoid logic bugs.\n",
      "\n",
      "---------------------------------\n",
      "\n",
      "*Typing in `y` is much more tedious in this example, but hardcoding huge lists are rarely ever done like this anyway, in practice we would find:*\n",
      "```python\n",
      "y = compute_triangle_mesh(geometry)\n",
      "```"
     ]
    },
    {
     "cell_type": "markdown",
     "metadata": {},
     "source": [
      "--------------------\n",
      "In the typical Matlab code, everything is a vector/matrix. This is why I don't consider it a high level programming langauge, since you are always stuck with a basic block of numbers with no abstraction.\n",
      "It relies solely on the variable names and the programmers memory to keep track of everything.\n",
      "\n",
      "\n",
      "*Technically matlab can also do basic OOP, but it's never used and it's probably painfully slow.\n",
      "Tacking on major features on a old langauge rarely works out well*"
     ]
    },
    {
     "cell_type": "code",
     "collapsed": false,
     "input": [],
     "language": "python",
     "metadata": {},
     "outputs": []
    }
   ],
   "metadata": {}
  }
 ]
}