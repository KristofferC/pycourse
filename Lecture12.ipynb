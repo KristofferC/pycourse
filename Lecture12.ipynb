{
 "metadata": {
  "name": "",
  "signature": "sha256:f37759d80617cbb1fff985a4a8415c6c6c5567dfa96180b0c378a2d6cb88da8f"
 },
 "nbformat": 3,
 "nbformat_minor": 0,
 "worksheets": [
  {
   "cells": [
    {
     "cell_type": "markdown",
     "metadata": {},
     "source": [
      "Lecture 12 will cover how to tie the GUI-widgets to the application logic. It will cover the Model-View-Controller (MVC) design concept for GUI.\n",
      "\n",
      "Reference\n",
      " * [1] Chapter \n",
      " * [2] Section"
     ]
    },
    {
     "cell_type": "markdown",
     "metadata": {},
     "source": [
      "First a bit of standard stuff needed to work with Qt"
     ]
    },
    {
     "cell_type": "code",
     "collapsed": false,
     "input": [
      "from PySide.QtCore import *\n",
      "from PySide.QtGui import *\n",
      "import sys"
     ],
     "language": "python",
     "metadata": {},
     "outputs": [],
     "prompt_number": 1
    },
    {
     "cell_type": "code",
     "collapsed": false,
     "input": [
      "qt_app = QApplication(sys.argv)"
     ],
     "language": "python",
     "metadata": {},
     "outputs": [],
     "prompt_number": 2
    },
    {
     "cell_type": "heading",
     "level": 1,
     "metadata": {},
     "source": [
      "State (Model)"
     ]
    },
    {
     "cell_type": "markdown",
     "metadata": {},
     "source": [
      "It is important to think of the *state* of an interactive piece of software.\n",
      "In sequential scripts, it is easy to keep track of the state, as the order of events are all predetermined, but this is not the case in interactive applications (whether or not they are graphical).\n",
      "\n",
      "For example, the minimum state of a chess game would be:\n",
      "* Whose players turn it is.\n",
      "* The position of all pieces left on the board.\n",
      "\n",
      "but a nicely presented game might need to store more\n",
      "* All the moves so far, in order, for each player\n",
      "* The pieces taken by each player.\n",
      "\n",
      "The user interface renders the information from the state. The user interacts with the user interface which sends signals back to the state to modify it."
     ]
    },
    {
     "cell_type": "heading",
     "level": 2,
     "metadata": {},
     "source": [
      "Mismatching UI and application state"
     ]
    },
    {
     "cell_type": "markdown",
     "metadata": {},
     "source": [
      "A common mistake is to let the presented UI not match the actual program state.\n",
      "Lets take the example of a simple painting application, where the state must at least include:\n",
      "* The drawing surface (size, pixel values, etc.)\n",
      "* The selected tool\n",
      "\n",
      "When a tool is selected, it's commonly represented as a pressed down button.\n",
      "When selecting a new tool, the previous tool button should be unpressed.\n",
      "<img src=\"buttons.png\"/>\n",
      "Well, that's not to bad. We could even just unpress all the buttons before repressing the new one to be sure.\n",
      "But, then, later on, we learn about the undo-operation and now there is a real risk of messing this up.\n",
      "\n",
      "\n",
      "Another simple example would be the player name. What if, somewhere later on, we let the player change his name?\n",
      "We would need to modify this in all occurrences where it might be printed.\n",
      "\n",
      "The key difference here is that we either update\n",
      "* the whole UI based on the *total* state\n",
      "* a section of the UI based on the *difference* in the state\n",
      "The first option can never display the wrong information, but the reason to sometimes prefer the second option is for performance.\n",
      "Widget toolkits tend to only update the graphics whenever a drawing event occurs (window resized, mouse movement/clicks etc.)\n",
      "\n",
      "It's therefore not uncommon to see applications where you need to \"wiggle\" the window edge around to force a window redraw event in order for the content to be updated. In games, this rarely happens, as games typically redraw, from the *total* state 60 frames per second, with little regard for battery life."
     ]
    },
    {
     "cell_type": "heading",
     "level": 1,
     "metadata": {},
     "source": [
      "Signals"
     ]
    },
    {
     "cell_type": "markdown",
     "metadata": {},
     "source": [
      "Last lecture we looked (briefly) at procedures for placing widgets. I hope you all agree that it is fairly straight forward to construct these, and now the more difficult task of having all the buttons interact and actually do something.\n",
      "One can read more about this on:\n",
      "http://qt-project.org/wiki/Signals_and_Slots_in_PySide\n",
      "\n",
      "In it's simplest form, we have a callback function"
     ]
    },
    {
     "cell_type": "code",
     "collapsed": false,
     "input": [
      "def some_func():\n",
      "    print(\"someFunc has been called!\")\n",
      "\n",
      "qt_app = QApplication.instance()\n",
      "button = QPushButton(\"Call some function\")\n",
      "\n",
      "button.clicked.connect(someFunc)\n",
      "#         ^               ^\n",
      "#       signal           slot\n",
      "\n",
      "button.show()\n",
      "qt_app.exec_()"
     ],
     "language": "python",
     "metadata": {},
     "outputs": [
      {
       "output_type": "stream",
       "stream": "stdout",
       "text": [
        "someFunc has been called!\n",
        "someFunc has been called!"
       ]
      },
      {
       "output_type": "stream",
       "stream": "stdout",
       "text": [
        "\n",
        "someFunc has been called!"
       ]
      },
      {
       "output_type": "stream",
       "stream": "stdout",
       "text": [
        "\n"
       ]
      },
      {
       "metadata": {},
       "output_type": "pyout",
       "prompt_number": 11,
       "text": [
        "0"
       ]
      }
     ],
     "prompt_number": 11
    },
    {
     "cell_type": "markdown",
     "metadata": {},
     "source": [
      "Whenever the button is clicked, Qt finds out which button, and emits the signal for that button, like this:"
     ]
    },
    {
     "cell_type": "code",
     "collapsed": false,
     "input": [
      "button.clicked.emit()"
     ],
     "language": "python",
     "metadata": {},
     "outputs": [
      {
       "output_type": "stream",
       "stream": "stdout",
       "text": [
        "someFunc has been called!\n"
       ]
      },
      {
       "metadata": {},
       "output_type": "pyout",
       "prompt_number": 13,
       "text": [
        "True"
       ]
      }
     ],
     "prompt_number": 13
    },
    {
     "cell_type": "markdown",
     "metadata": {},
     "source": [
      "Signals can be emitted in other ways, for example using the `QTimer`"
     ]
    },
    {
     "cell_type": "heading",
     "level": 1,
     "metadata": {},
     "source": [
      "Model View Controller (MVC)"
     ]
    },
    {
     "cell_type": "markdown",
     "metadata": {},
     "source": [
      "From wikipedia:\n",
      "\n",
      "* A controller can send commands to the model to update the model's state (e.g., editing a document). It can also send commands to its associated view to change the view's presentation of the model (e.g., by scrolling through a document).\n",
      "* A model notifies its associated views and controllers when there has been a change in its state. This notification allows the views to produce updated output, and the controllers to change the available set of commands. In some cases an MVC implementation might instead be \"passive,\" so that other components must poll the model for updates rather than being notified.\n",
      "* A view requests information from the model that it uses to generate an output representation to the user.\n",
      "\n",
      "The model is presicely that of the *state* described earlier.\n",
      "\n",
      "The controller is typically part of the *view*, e.g. selecting an object represented by some icon in the *view*."
     ]
    },
    {
     "cell_type": "heading",
     "level": 2,
     "metadata": {},
     "source": [
      "QStringListModel and QStringListView"
     ]
    },
    {
     "cell_type": "code",
     "collapsed": false,
     "input": [],
     "language": "python",
     "metadata": {},
     "outputs": []
    }
   ],
   "metadata": {}
  }
 ]
}