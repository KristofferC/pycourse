{
 "metadata": {
  "name": "",
  "signature": "sha256:0e7592ecd23052ea4de7084e4d450e504d3b405f06e95c2af87ad39fc33715a7"
 },
 "nbformat": 3,
 "nbformat_minor": 0,
 "worksheets": [
  {
   "cells": [
    {
     "cell_type": "markdown",
     "metadata": {},
     "source": [
      "Lecture 12 will cover how to tie the GUI-widgets to the application logic. It will cover the Model-View-Controller (MVC) design concept for GUI.\n",
      "\n",
      "Reference\n",
      " * [1] Chapter \n",
      " * [2] Section"
     ]
    },
    {
     "cell_type": "markdown",
     "metadata": {},
     "source": [
      "First a bit of standard stuff needed to work with Qt"
     ]
    },
    {
     "cell_type": "code",
     "collapsed": false,
     "input": [
      "from PySide.QtCore import *\n",
      "from PySide.QtGui import *\n",
      "import sys"
     ],
     "language": "python",
     "metadata": {},
     "outputs": [],
     "prompt_number": 1
    },
    {
     "cell_type": "code",
     "collapsed": false,
     "input": [
      "qt_app = QApplication(sys.argv)"
     ],
     "language": "python",
     "metadata": {},
     "outputs": [],
     "prompt_number": 2
    },
    {
     "cell_type": "heading",
     "level": 1,
     "metadata": {},
     "source": [
      "State (Model)"
     ]
    },
    {
     "cell_type": "markdown",
     "metadata": {},
     "source": [
      "It is important to think of the *state* of an interactive piece of software.\n",
      "In sequential scripts, it is easy to keep track of the state, as the order of events are all predetermined, but this is not the case in interactive applications (whether or not they are graphical).\n",
      "\n",
      "For example, the minimum state of a chess game would be:\n",
      "* Whose players turn it is.\n",
      "* The position of all pieces left on the board.\n",
      "\n",
      "but a nicely presented game might need to store more\n",
      "* All the moves so far, in order, for each player\n",
      "* The pieces taken by each player.\n",
      "\n",
      "The user interface renders the information from the state. The user interacts with the user interface which sends signals back to the state to modify it."
     ]
    },
    {
     "cell_type": "heading",
     "level": 2,
     "metadata": {},
     "source": [
      "Mismatching UI and application state"
     ]
    },
    {
     "cell_type": "markdown",
     "metadata": {},
     "source": [
      "A common mistake is to let the presented UI not match the actual program state.\n",
      "Lets take the example of a simple painting application, where the state must at least include:\n",
      "* The drawing surface (size, pixel values, etc.)\n",
      "* The selected tool\n",
      "\n",
      "When a tool is selected, it's commonly represented as a pressed down button.\n",
      "When selecting a new tool, the previous tool button should be unpressed.\n",
      "<img src=\"buttons.png\"/>\n",
      "Well, that's not to bad. We could even just unpress all the buttons before repressing the new one to be sure.\n",
      "But, then, later on, we learn about the undo-operation and now there is a real risk of messing this up.\n",
      "\n",
      "\n",
      "Another simple example would be the player name. What if, somewhere later on, we let the player change his name?\n",
      "We would need to modify this in all occurrences where it might be printed."
     ]
    },
    {
     "cell_type": "heading",
     "level": 1,
     "metadata": {},
     "source": [
      "Signals"
     ]
    },
    {
     "cell_type": "markdown",
     "metadata": {},
     "source": [
      "Last lecture we looked (briefly) at procedures for placing widgets. I hope you all agree that it is fairly straight forward to construct these, and now the more difficult task of having all the buttons interact and actually do something."
     ]
    },
    {
     "cell_type": "code",
     "collapsed": false,
     "input": [],
     "language": "python",
     "metadata": {},
     "outputs": []
    },
    {
     "cell_type": "heading",
     "level": 1,
     "metadata": {},
     "source": [
      "Model View Controller (MVC)"
     ]
    },
    {
     "cell_type": "code",
     "collapsed": false,
     "input": [],
     "language": "python",
     "metadata": {},
     "outputs": []
    }
   ],
   "metadata": {}
  }
 ]
}