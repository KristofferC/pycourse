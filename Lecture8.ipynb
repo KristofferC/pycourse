{
 "metadata": {
  "name": "",
  "signature": "sha256:f8cb93153fc1c63ad80566c66f5c7b3dbbd1c3d444dd03a606775fb080edbad6"
 },
 "nbformat": 3,
 "nbformat_minor": 0,
 "worksheets": [
  {
   "cells": [
    {
     "cell_type": "markdown",
     "metadata": {},
     "source": [
      "Lecture 8 will cover polymorphism, inheritance and abstract methods in OOP.\n",
      "\n",
      "Reference\n",
      " * [1] Chapter 10\n",
      " * [2] Section 9.5"
     ]
    },
    {
     "cell_type": "heading",
     "level": 1,
     "metadata": {},
     "source": [
      "A bit of repetition from last lecture"
     ]
    },
    {
     "cell_type": "heading",
     "level": 3,
     "metadata": {},
     "source": [
      "Clearifying the `self` argument"
     ]
    },
    {
     "cell_type": "markdown",
     "metadata": {},
     "source": [
      "```python\n",
      "def MyClass:\n",
      "    def __init__(self, a, b, c):\n",
      "        self.d = a + b + c\n",
      "    \n",
      "    def do_thing(self, e, f):\n",
      "        return self.d + e + f\n",
      "\n",
      "x = MyClass(1, 2, 3)\n",
      "# Calling a method on object x:\n",
      "x.do_thing(5, 6)\n",
      "# is equivalent to\n",
      "MyClass.do_thing(x, 5, 6)\n",
      "```"
     ]
    },
    {
     "cell_type": "heading",
     "level": 3,
     "metadata": {},
     "source": [
      "You almost always want the __init__ method"
     ]
    },
    {
     "cell_type": "markdown",
     "metadata": {},
     "source": [
      "You probably want to do:\n",
      "```python\n",
      "h = Hand()\n",
      "...\n",
      "h.add_card(c)\n",
      "...\n",
      "```\n",
      "So, you don't have all the cards from the start, and you don't have any input to the constructor.\n",
      "You still want the `__init__` method!"
     ]
    },
    {
     "cell_type": "code",
     "collapsed": false,
     "input": [
      "class Hand:\n",
      "    def __init__(self):\n",
      "        self.cards = []\n",
      "\n",
      "    def add_card(card):\n",
      "        self.cards.append(card)"
     ],
     "language": "python",
     "metadata": {},
     "outputs": [],
     "prompt_number": 27
    },
    {
     "cell_type": "heading",
     "level": 1,
     "metadata": {},
     "source": [
      "An appetizer!"
     ]
    },
    {
     "cell_type": "markdown",
     "metadata": {},
     "source": [
      "Simple inheritance in Python"
     ]
    },
    {
     "cell_type": "code",
     "collapsed": false,
     "input": [
      "class Shape:\n",
      "    def compute_area(self):\n",
      "        # This is one common way to make an abstract method,\n",
      "        # though there isn't any special language features used here.\n",
      "        raise NotImplementedError(\"Missing compute_area implementation\")\n",
      "\n",
      "class Square(Shape): # The Square is a Shape\n",
      "    def __init__(self, x0, h):\n",
      "        self.x0 = x0\n",
      "        self.h = h\n",
      "\n",
      "    def compute_area(self): # Overloads the method from Shape\n",
      "        return self.h**2\n",
      "    \n",
      "class Circle(Shape): # The Circle is a shape\n",
      "    def __init__(self, x0, r):\n",
      "        self.x0 = x0\n",
      "        self.r = r\n",
      "\n",
      "    def compute_area(self): # Overload the method from Shape\n",
      "        from math import pi\n",
      "        return pi * self.r**2"
     ],
     "language": "python",
     "metadata": {},
     "outputs": [],
     "prompt_number": 17
    },
    {
     "cell_type": "code",
     "collapsed": false,
     "input": [
      "s = Square((0.,0.), 3.)\n",
      "c = Circle((5.,3.), 1.)\n",
      "print( s.compute_area() )\n",
      "print( c.compute_area() )"
     ],
     "language": "python",
     "metadata": {},
     "outputs": [
      {
       "output_type": "stream",
       "stream": "stdout",
       "text": [
        "9.0\n",
        "3.141592653589793\n"
       ]
      }
     ],
     "prompt_number": 18
    },
    {
     "cell_type": "heading",
     "level": 1,
     "metadata": {},
     "source": [
      "What is polymorphism?"
     ]
    },
    {
     "cell_type": "markdown",
     "metadata": {},
     "source": [
      "Polymorphism means, in terms of Python and similar OOP languages:\n",
      "\n",
      "* **Parametric polymorphism**: Also called Generic (Java) and Template (C++ or D) programming. It means we can write general functions for many possible types. This is automatically the case for all code in Python due to the dynamic typing system."
     ]
    },
    {
     "cell_type": "code",
     "collapsed": false,
     "input": [
      "def max(a, b):\n",
      "   return a if a > b else b\n",
      "\n",
      "# Works for anything that supports the less-than operator:\n",
      "print( max(3.4, 4.5) )\n",
      "print( max('Hello', 'World') )"
     ],
     "language": "python",
     "metadata": {},
     "outputs": [
      {
       "output_type": "stream",
       "stream": "stdout",
       "text": [
        "4.5\n",
        "World\n"
       ]
      }
     ],
     "prompt_number": 24
    },
    {
     "cell_type": "markdown",
     "metadata": {},
     "source": [
      "and we can compare this to a simple function in C\n",
      "```c\n",
      "void max(float a, float b) {\n",
      "    return a > b ? a : b;\n",
      "}\n",
      "```\n",
      "In C, we have to declare types (and we can't do parametric polymorphism without reverting to meta-programming)\n",
      "\n",
      "In C++, we could do things like\n",
      "```cpp\n",
      "template< typename T >\n",
      "T max(T a, T b) {\n",
      "    return a > b ? a : b;\n",
      "}\n",
      "```"
     ]
    },
    {
     "cell_type": "heading",
     "level": 1,
     "metadata": {},
     "source": [
      "Subtyping (or inclusion polymorphism)"
     ]
    },
    {
     "cell_type": "markdown",
     "metadata": {},
     "source": [
      "In OOP, this is usually just called *polymorphism*, and is achieved by *inheritance*.\n",
      "\n",
      "It might look like this:"
     ]
    },
    {
     "cell_type": "code",
     "collapsed": false,
     "input": [
      "class Animal:\n",
      "    pass\n",
      "\n",
      "class Dog(Animal):\n",
      "    pass\n",
      "\n",
      "class Bird(Animal):\n",
      "    pass\n",
      "\n",
      "class Hawk(Bird):\n",
      "    pass\n",
      "\n",
      "x = Hawk()\n",
      "print(\"A hawk is a type of animal -\", isinstance(x, Animal) )\n",
      "print(\"A hawk is a type of bird   -\", isinstance(x, Bird) )\n",
      "print(\"A hawk is a type of dog    -\", isinstance(x, Dog) )"
     ],
     "language": "python",
     "metadata": {},
     "outputs": [
      {
       "output_type": "stream",
       "stream": "stdout",
       "text": [
        "A hawk is a type of animal - True\n",
        "A hawk is a type of bird   - True\n",
        "A hawk is a type of dog    - False\n"
       ]
      }
     ],
     "prompt_number": 41
    },
    {
     "cell_type": "markdown",
     "metadata": {},
     "source": [
      "Python doesn't actually need this type of polymorphism very much thanks to it's automatic parametric polymorphism, however, it is nice to have as it helps to express intent and it makes things easier.\n",
      "\n",
      "In statically typed langauges, this is the primary type of polymorphism used. As a very simple example:\n",
      "\n",
      "```cpp\n",
      "vector< Shape > shapes = {Triangle(...), Rectangle(...), ... };\n",
      "\n",
      "float area = 0;\n",
      "for ( Shape &s : shapes ) { // Loop over all the shapes\n",
      "    area += s.computeArea() // All shapes are required to implement this method\n",
      "}\n",
      "printf(\"total area is %f\\n\", area);\n",
      "```"
     ]
    },
    {
     "cell_type": "heading",
     "level": 1,
     "metadata": {},
     "source": [
      "Inherited functionality"
     ]
    },
    {
     "cell_type": "code",
     "collapsed": false,
     "input": [
      "class Animal:\n",
      "    def "
     ],
     "language": "python",
     "metadata": {},
     "outputs": [
      {
       "ename": "SyntaxError",
       "evalue": "invalid syntax (<ipython-input-42-c3829c8b6618>, line 2)",
       "output_type": "pyerr",
       "traceback": [
        "\u001b[1;36m  File \u001b[1;32m\"<ipython-input-42-c3829c8b6618>\"\u001b[1;36m, line \u001b[1;32m2\u001b[0m\n\u001b[1;33m    def\u001b[0m\n\u001b[1;37m        ^\u001b[0m\n\u001b[1;31mSyntaxError\u001b[0m\u001b[1;31m:\u001b[0m invalid syntax\n"
       ]
      }
     ],
     "prompt_number": 42
    },
    {
     "cell_type": "heading",
     "level": 1,
     "metadata": {},
     "source": [
      "Enforced functionality (abstract methods)"
     ]
    },
    {
     "cell_type": "code",
     "collapsed": false,
     "input": [],
     "language": "python",
     "metadata": {},
     "outputs": []
    }
   ],
   "metadata": {}
  }
 ]
}