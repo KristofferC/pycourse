{
 "metadata": {
  "name": "",
  "signature": "sha256:c8148bb46da7a5d93a6426c5ce28c39418a8a681bcccd046a1db115f84764b70"
 },
 "nbformat": 3,
 "nbformat_minor": 0,
 "worksheets": [
  {
   "cells": [
    {
     "cell_type": "markdown",
     "metadata": {},
     "source": [
      "Lecture 12 will cover further go into examples on how to tie the GUI-widgets to the application logic by looking into more on the signal handeling in Qt.\n",
      "\n",
      "Reference\n",
      " * [1] Chapter \n",
      " * [2] Section"
     ]
    },
    {
     "cell_type": "markdown",
     "metadata": {},
     "source": [
      "First a bit of standard stuff needed to work with Qt"
     ]
    },
    {
     "cell_type": "code",
     "collapsed": false,
     "input": [
      "from PySide.QtCore import *\n",
      "from PySide.QtGui import *\n",
      "import sys"
     ],
     "language": "python",
     "metadata": {},
     "outputs": [],
     "prompt_number": 33
    },
    {
     "cell_type": "code",
     "collapsed": false,
     "input": [
      "qt_app = QApplication(sys.argv)"
     ],
     "language": "python",
     "metadata": {},
     "outputs": [
      {
       "ename": "RuntimeError",
       "evalue": "A QApplication instance already exists.",
       "output_type": "pyerr",
       "traceback": [
        "\u001b[1;31m---------------------------------------------------------------------------\u001b[0m\n\u001b[1;31mRuntimeError\u001b[0m                              Traceback (most recent call last)",
        "\u001b[1;32m<ipython-input-34-355e637276bf>\u001b[0m in \u001b[0;36m<module>\u001b[1;34m()\u001b[0m\n\u001b[1;32m----> 1\u001b[1;33m \u001b[0mqt_app\u001b[0m \u001b[1;33m=\u001b[0m \u001b[0mQApplication\u001b[0m\u001b[1;33m(\u001b[0m\u001b[0msys\u001b[0m\u001b[1;33m.\u001b[0m\u001b[0margv\u001b[0m\u001b[1;33m)\u001b[0m\u001b[1;33m\u001b[0m\u001b[0m\n\u001b[0m",
        "\u001b[1;31mRuntimeError\u001b[0m: A QApplication instance already exists."
       ]
      }
     ],
     "prompt_number": 34
    },
    {
     "cell_type": "heading",
     "level": 1,
     "metadata": {},
     "source": [
      "Signals"
     ]
    },
    {
     "cell_type": "markdown",
     "metadata": {},
     "source": [
      "Lets start by creating a simpel model that emits a signal when the data has been modified."
     ]
    },
    {
     "cell_type": "code",
     "collapsed": false,
     "input": [
      "class MyCounterModel(QObject):\n",
      "    # We create a new signal\n",
      "    data_changed = Signal()\n",
      "    \n",
      "    def __init__(self):\n",
      "        super().__init__()\n",
      "        self.count = 0\n",
      "\n",
      "    def value(self):\n",
      "        return self.count\n",
      "\n",
      "    def increment(self):\n",
      "        self.count += 1\n",
      "        self.data_changed.emit()"
     ],
     "language": "python",
     "metadata": {},
     "outputs": [],
     "prompt_number": 35
    },
    {
     "cell_type": "code",
     "collapsed": false,
     "input": [
      "class MyCounterView(QWidget):\n",
      "    def __init__(self, model):\n",
      "        super().__init__()\n",
      "        self.button = QPushButton(\"Add 1\")\n",
      "        self.label = QLabel()\n",
      "\n",
      "        layout = QHBoxLayout()\n",
      "        layout.addWidget(self.button)\n",
      "        layout.addWidget(self.label)\n",
      "        self.setLayout(layout)\n",
      "\n",
      "        # Connect logic:\n",
      "        self.model = model\n",
      "        model.data_changed.connect(self.update)\n",
      "        self.button.clicked.connect(model.increment)\n",
      "        \n",
      "        self.update()  # Make sure it's up-to-date from the start.\n",
      "    \n",
      "    def update(self):\n",
      "        self.label.setText(\"Value is \" + str(self.model.value()))"
     ],
     "language": "python",
     "metadata": {},
     "outputs": [],
     "prompt_number": 39
    },
    {
     "cell_type": "code",
     "collapsed": false,
     "input": [
      "qt_app = QApplication.instance()\n",
      "\n",
      "counter = MyCounterModel()\n",
      "view = MyCounterView(counter)\n",
      "view.show()\n",
      "\n",
      "qt_app.exec_()"
     ],
     "language": "python",
     "metadata": {},
     "outputs": [
      {
       "metadata": {},
       "output_type": "pyout",
       "prompt_number": 40,
       "text": [
        "0"
       ]
      }
     ],
     "prompt_number": 40
    },
    {
     "cell_type": "markdown",
     "metadata": {},
     "source": [
      "Lets start adressing the strange parts:\n",
      "* The signal is declared as a static variable (class variable).\n",
      "* The Signal() object doesn't actually have a connect or emit method.\n",
      "\n",
      "It's all \"magic\" that the initialization of QObject takes care of. You don't need know how it happens, just how to use it.\n",
      "*In order to use Signal()'s the class needs to inherit from QObject.*"
     ]
    },
    {
     "cell_type": "code",
     "collapsed": false,
     "input": [
      "class GameOfLife(QObject):\n",
      "    data_changed = Signal()\n",
      "\n",
      "    def __init__(self):\n",
      "        super().__init__()\n",
      "        self.size = 10\n",
      "        self.cells = [[False]*self.size]*self.size\n",
      "\n",
      "    def advance(self):\n",
      "        new_cells = [[False]*self.size]*self.size\n",
      "        for i, row in range(self.size):\n",
      "            for j, col in range(self.size):\n",
      "                neighbours = 0\n",
      "                for x in range(max(i-1,0), min(i+2,self.size)):\n",
      "                    for y in range(max(j-1,0), min(j+2,self.size)):\n",
      "                        if self.cells[x][y]:\n",
      "                            neighbours += 1\n",
      "                if neighbours == 3 or self.cells[i, j] and neighbours == 2:\n",
      "                    new_cells[i, j] = True\n",
      "        self.cells = new_cells\n",
      "        self.data_changed.emit()\n",
      "\n",
      "    def grant_life(self, i, j):\n",
      "        print(\"life at \", i, j)\n",
      "        self.cells[i][j] = True\n",
      "        self.data_changed.emit()"
     ],
     "language": "python",
     "metadata": {},
     "outputs": [],
     "prompt_number": 82
    },
    {
     "cell_type": "code",
     "collapsed": false,
     "input": [
      "class GameOfView(QWidget):\n",
      "    def __init__(self, game):\n",
      "        super().__init__()\n",
      "\n",
      "        self.layout = QGridLayout()\n",
      "        self.buttons = [list() for n in range(game.size)]\n",
      "        for i in range(game.size):\n",
      "            for j in range(game.size):\n",
      "                button = QPushButton()\n",
      "                button.clicked.connect(lambda : self.game.grant_life(i, j))\n",
      "                self.buttons[i].append(button)\n",
      "                self.layout.addWidget(button, i, j)\n",
      "                \n",
      "        self.layout.setVerticalSpacing(0)\n",
      "        self.layout.setHorizontalSpacing(0)\n",
      "        self.setLayout(self.layout)\n",
      "        \n",
      "        self.game = game\n",
      "        game.data_changed.connect(self.update)\n",
      "\n",
      "    def update(self):\n",
      "        for i, row in enumerate(self.game.cells):\n",
      "            for j, col in enumerate(self.game.cells):\n",
      "                if self.game.cells[i][j]:\n",
      "                    self.buttons[i][j].setText('x')\n",
      "                else:\n",
      "                    self.buttons[i][j].setText('')"
     ],
     "language": "python",
     "metadata": {},
     "outputs": [],
     "prompt_number": 83
    },
    {
     "cell_type": "code",
     "collapsed": false,
     "input": [
      "model = GameOfLife()\n",
      "view = GameOfView(model)\n",
      "view.show()\n",
      "qt_app.exec_()"
     ],
     "language": "python",
     "metadata": {},
     "outputs": [
      {
       "output_type": "stream",
       "stream": "stdout",
       "text": [
        "life at  9 9\n",
        "life at "
       ]
      },
      {
       "output_type": "stream",
       "stream": "stdout",
       "text": [
        " 9 9\n",
        "life at "
       ]
      },
      {
       "output_type": "stream",
       "stream": "stdout",
       "text": [
        " 9 9\n",
        "life at "
       ]
      },
      {
       "output_type": "stream",
       "stream": "stdout",
       "text": [
        " 9 9\n",
        "life at "
       ]
      },
      {
       "output_type": "stream",
       "stream": "stdout",
       "text": [
        " 9 9\n"
       ]
      },
      {
       "metadata": {},
       "output_type": "pyout",
       "prompt_number": 84,
       "text": [
        "0"
       ]
      }
     ],
     "prompt_number": 84
    },
    {
     "cell_type": "code",
     "collapsed": false,
     "input": [],
     "language": "python",
     "metadata": {},
     "outputs": []
    }
   ],
   "metadata": {}
  }
 ]
}