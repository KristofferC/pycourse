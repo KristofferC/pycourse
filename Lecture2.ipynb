{
 "metadata": {
  "name": "",
  "signature": "sha256:4e4850f6688c8c51da275445a0c60b7f8b9752906c6f478422cd9ac21f683c55"
 },
 "nbformat": 3,
 "nbformat_minor": 0,
 "worksheets": [
  {
   "cells": [
    {
     "cell_type": "heading",
     "level": 1,
     "metadata": {},
     "source": [
      "Built in help"
     ]
    },
    {
     "cell_type": "heading",
     "level": 2,
     "metadata": {},
     "source": [
      "The `help` function"
     ]
    },
    {
     "cell_type": "code",
     "collapsed": false,
     "input": [
      "from math import sqrt\n",
      "help(sqrt)"
     ],
     "language": "python",
     "metadata": {
      "slideshow": {
       "slide_type": "slide"
      }
     },
     "outputs": [
      {
       "output_type": "stream",
       "stream": "stdout",
       "text": [
        "Help on built-in function sqrt in module math:\n",
        "\n",
        "sqrt(...)\n",
        "    sqrt(x)\n",
        "    \n",
        "    Return the square root of x.\n",
        "\n"
       ]
      }
     ],
     "prompt_number": 60
    },
    {
     "cell_type": "markdown",
     "metadata": {},
     "source": [
      "*You can run `help` on most things, even variables.*"
     ]
    },
    {
     "cell_type": "heading",
     "level": 2,
     "metadata": {},
     "source": [
      "Tab-completion"
     ]
    },
    {
     "cell_type": "code",
     "collapsed": false,
     "input": [
      "areallylongvariablename = 123\n",
      "sqrt(areallylongvariablename)"
     ],
     "language": "python",
     "metadata": {},
     "outputs": [
      {
       "metadata": {},
       "output_type": "pyout",
       "prompt_number": 62,
       "text": [
        "11.090536506409418"
       ]
      }
     ],
     "prompt_number": 62
    },
    {
     "cell_type": "heading",
     "level": 1,
     "metadata": {},
     "source": [
      "Libraries"
     ]
    },
    {
     "cell_type": "heading",
     "level": 2,
     "metadata": {},
     "source": [
      "Important libraries"
     ]
    },
    {
     "cell_type": "code",
     "collapsed": false,
     "input": [
      "import math\n",
      "math.sqrt(5)"
     ],
     "language": "python",
     "metadata": {},
     "outputs": [
      {
       "metadata": {},
       "output_type": "pyout",
       "prompt_number": 5,
       "text": [
        "2.23606797749979"
       ]
      }
     ],
     "prompt_number": 5
    },
    {
     "cell_type": "heading",
     "level": 2,
     "metadata": {},
     "source": [
      " Abbreviating the namespace"
     ]
    },
    {
     "cell_type": "code",
     "collapsed": false,
     "input": [
      "import math as m\n",
      "m.sqrt(5)"
     ],
     "language": "python",
     "metadata": {},
     "outputs": [
      {
       "metadata": {},
       "output_type": "pyout",
       "prompt_number": 77,
       "text": [
        "2.23606797749979"
       ]
      }
     ],
     "prompt_number": 77
    },
    {
     "cell_type": "heading",
     "level": 2,
     "metadata": {},
     "source": [
      "Selective importing"
     ]
    },
    {
     "cell_type": "code",
     "collapsed": false,
     "input": [
      "from math import cos, pi\n",
      "cos(1.5*pi)"
     ],
     "language": "python",
     "metadata": {},
     "outputs": [
      {
       "metadata": {},
       "output_type": "pyout",
       "prompt_number": 8,
       "text": [
        "-1.8369701987210297e-16"
       ]
      }
     ],
     "prompt_number": 8
    },
    {
     "cell_type": "code",
     "collapsed": false,
     "input": [
      "sin(5)"
     ],
     "language": "python",
     "metadata": {},
     "outputs": [
      {
       "ename": "NameError",
       "evalue": "name 'sin' is not defined",
       "output_type": "pyerr",
       "traceback": [
        "\u001b[1;31m---------------------------------------------------------------------------\u001b[0m\n\u001b[1;31mNameError\u001b[0m                                 Traceback (most recent call last)",
        "\u001b[1;32m<ipython-input-9-3d19be93d633>\u001b[0m in \u001b[0;36m<module>\u001b[1;34m()\u001b[0m\n\u001b[1;32m----> 1\u001b[1;33m \u001b[0msin\u001b[0m\u001b[1;33m(\u001b[0m\u001b[1;36m5\u001b[0m\u001b[1;33m)\u001b[0m\u001b[1;33m\u001b[0m\u001b[0m\n\u001b[0m",
        "\u001b[1;31mNameError\u001b[0m: name 'sin' is not defined"
       ]
      }
     ],
     "prompt_number": 9
    },
    {
     "cell_type": "heading",
     "level": 2,
     "metadata": {},
     "source": [
      "Wildcards"
     ]
    },
    {
     "cell_type": "markdown",
     "metadata": {},
     "source": [
      "Using the wildcard, you import everything in that scope\n",
      "\n",
      "```python\n",
      "from math import *\n",
      "```\n",
      "\n",
      "but this practice is generally discouraged."
     ]
    },
    {
     "cell_type": "heading",
     "level": 1,
     "metadata": {},
     "source": [
      "Indentation"
     ]
    },
    {
     "cell_type": "markdown",
     "metadata": {},
     "source": [
      "Indentation is not optional in Python.\n",
      "It determines control flow scopes!\n",
      "\n",
      "### Matlab\n",
      "```matlab\n",
      "if x\n",
      "    f();\n",
      "elseif y\n",
      "    g();\n",
      "end\n",
      "for x = y\n",
      "    disp('foo');\n",
      "end\n",
      "if q\n",
      "end\n",
      "```\n",
      "### Python\n",
      "```python\n",
      "if x:\n",
      "    f()\n",
      "elif y:\n",
      "    g()\n",
      "for x in y:\n",
      "    print('foo')\n",
      "if q:\n",
      "    pass # Here we need the no-operation operator \"pass\" or we'll get syntax errors\n",
      "```\n",
      "\n",
      "Sticking to 4 spaces per indentation is *strongly* encouraged."
     ]
    },
    {
     "cell_type": "heading",
     "level": 1,
     "metadata": {},
     "source": [
      "Basic strings"
     ]
    },
    {
     "cell_type": "code",
     "collapsed": false,
     "input": [
      "x = 'Hello\\nWorld'\n",
      "x"
     ],
     "language": "python",
     "metadata": {},
     "outputs": [
      {
       "metadata": {},
       "output_type": "pyout",
       "prompt_number": 80,
       "text": [
        "'Hello\\nWorld'"
       ]
      }
     ],
     "prompt_number": 80
    },
    {
     "cell_type": "code",
     "collapsed": false,
     "input": [
      "print(x)"
     ],
     "language": "python",
     "metadata": {},
     "outputs": [
      {
       "output_type": "stream",
       "stream": "stdout",
       "text": [
        "Hello\n",
        "World\n"
       ]
      }
     ],
     "prompt_number": 83
    },
    {
     "cell_type": "heading",
     "level": 1,
     "metadata": {},
     "source": [
      "Basic lists"
     ]
    },
    {
     "cell_type": "markdown",
     "metadata": {},
     "source": [
      "* Lists"
     ]
    },
    {
     "cell_type": "code",
     "collapsed": false,
     "input": [
      "x = [43, 10, 15]\n",
      "len(x)"
     ],
     "language": "python",
     "metadata": {},
     "outputs": [
      {
       "metadata": {},
       "output_type": "pyout",
       "prompt_number": 84,
       "text": [
        "3"
       ]
      }
     ],
     "prompt_number": 84
    },
    {
     "cell_type": "markdown",
     "metadata": {},
     "source": [
      "* can store anything!"
     ]
    },
    {
     "cell_type": "code",
     "collapsed": false,
     "input": [
      "x = [[1, 2, 3], [4, 2], [9, 4, 2]]\n",
      "y = ['Hello', 'World']"
     ],
     "language": "python",
     "metadata": {},
     "outputs": [],
     "prompt_number": 17
    },
    {
     "cell_type": "markdown",
     "metadata": {},
     "source": [
      "# Indexing\n",
      "\n",
      "* Indexing uses the hard brackets []"
     ]
    },
    {
     "cell_type": "code",
     "collapsed": false,
     "input": [
      "x = [43, 10, 15]\n",
      "x[1]"
     ],
     "language": "python",
     "metadata": {},
     "outputs": [
      {
       "metadata": {},
       "output_type": "pyout",
       "prompt_number": 7,
       "text": [
        "10"
       ]
      }
     ],
     "prompt_number": 7
    },
    {
     "cell_type": "markdown",
     "metadata": {},
     "source": [
      "* Note that indexing starts from 0!\n",
      "  Index measures distance from start."
     ]
    },
    {
     "cell_type": "markdown",
     "metadata": {},
     "source": [
      "* Negative indices wrap around and goes from the end"
     ]
    },
    {
     "cell_type": "code",
     "collapsed": false,
     "input": [
      "x[-1]"
     ],
     "language": "python",
     "metadata": {},
     "outputs": [
      {
       "metadata": {},
       "output_type": "pyout",
       "prompt_number": 13,
       "text": [
        "15"
       ]
      }
     ],
     "prompt_number": 13
    },
    {
     "cell_type": "markdown",
     "metadata": {},
     "source": [
      "* Slicing similar to that of Matlab, but in the order *`start:end:increment`*\n",
      "\n",
      "```\n",
      "Matlab         Python\n",
      "x(a:b:c)   ~   x[(a-1):c:b]\n",
      "end        ~   -1  or  nothing:\n",
      "```\n",
      "\n",
      "True for single index\n",
      "\n",
      "```\n",
      "x(end)     ~   x[-1]\n",
      "```\n",
      "\n",
      "But `-1+1 = 0` so when using slicing, the syntax is to leave it out\n",
      "\n",
      "```\n",
      "x(1:2:end) ~   x[0::2]\n",
      "x(7:end)   ~   x[6:]\n",
      "```"
     ]
    },
    {
     "cell_type": "code",
     "collapsed": false,
     "input": [
      "x = ['my', 'short', 'list', 'of', 'strings']\n",
      "print('x[0:2]    =', x[0:2])\n",
      "print('x[1:]     =', x[1:])\n",
      "print('x[:1]     =', x[:1])\n",
      "print('x[:]      =', x[:])\n",
      "print('x[0::2]   =', x[0::2])\n",
      "print('x[0:2:3]  =', x[0:10:2])"
     ],
     "language": "python",
     "metadata": {},
     "outputs": [
      {
       "output_type": "stream",
       "stream": "stdout",
       "text": [
        "x[0:2]    = ['my', 'short']\n",
        "x[1:]     = ['short', 'list', 'of', 'strings']\n",
        "x[:1]     = ['my']\n",
        "x[:]      = ['my', 'short', 'list', 'of', 'strings']\n",
        "x[0::2]   = ['my', 'list', 'strings']\n",
        "x[0:2:3]  = ['my', 'list', 'strings']\n"
       ]
      }
     ],
     "prompt_number": 40
    },
    {
     "cell_type": "markdown",
     "metadata": {},
     "source": [
      "# Common operators\n",
      "### Binary operators"
     ]
    },
    {
     "cell_type": "code",
     "collapsed": false,
     "input": [
      "print('4+3 =', 4 + 3)\n",
      "print('4-3 =', 4 - 3)\n",
      "print('4*3 =', 4 * 3)\n",
      "print('4/3 =', 4 / 3)"
     ],
     "language": "python",
     "metadata": {},
     "outputs": [
      {
       "output_type": "stream",
       "stream": "stdout",
       "text": [
        "4+3 = 7\n",
        "4-3 = 1\n",
        "4*3 = 12\n",
        "4/3 = 1.3333333333333333\n"
       ]
      }
     ],
     "prompt_number": 41
    },
    {
     "cell_type": "markdown",
     "metadata": {},
     "source": [
      "### Less obvious operators\n",
      " * `a ** b` $= a^b$\n",
      " * `a // b` $= \\lfloor a/b \\rfloor$\n",
      " * `a % b ` $= a \\,\\text{mod}\\, b$"
     ]
    },
    {
     "cell_type": "code",
     "collapsed": false,
     "input": [
      "print('4**3 =', 4 ** 3)\n",
      "print('4//3 =', 4 // 3)\n",
      "print('4%3 =', 4 % 3)"
     ],
     "language": "python",
     "metadata": {},
     "outputs": [
      {
       "output_type": "stream",
       "stream": "stdout",
       "text": [
        "4**3 = 64\n",
        "4//3 = 1\n",
        "4%3 = 1\n"
       ]
      }
     ],
     "prompt_number": 42
    },
    {
     "cell_type": "markdown",
     "metadata": {},
     "source": [
      "**Important!** If you are stuck with python2.x, then division (/) on integers is // by default. This can be changed in python2.x by doing\n",
      "```python\n",
      "from __future__ import division\n",
      "```"
     ]
    },
    {
     "cell_type": "markdown",
     "metadata": {},
     "source": [
      "### Extended assignments"
     ]
    },
    {
     "cell_type": "code",
     "collapsed": false,
     "input": [
      "x = 1\n",
      "x += 2\n",
      "x *= 3\n",
      "x /= 4\n",
      "x"
     ],
     "language": "python",
     "metadata": {},
     "outputs": [
      {
       "metadata": {},
       "output_type": "pyout",
       "prompt_number": 43,
       "text": [
        "2.25"
       ]
      }
     ],
     "prompt_number": 43
    },
    {
     "cell_type": "code",
     "collapsed": false,
     "input": [
      "x = 1\n",
      "x //= 2\n",
      "x"
     ],
     "language": "python",
     "metadata": {},
     "outputs": [
      {
       "metadata": {},
       "output_type": "pyout",
       "prompt_number": 44,
       "text": [
        "0"
       ]
      }
     ],
     "prompt_number": 44
    },
    {
     "cell_type": "markdown",
     "metadata": {},
     "source": [
      "# Bitwise operators\n",
      "### Binary representations of number\n",
      "$$41 = 2^5 + 2^3 + 2^0 = 101001_b$$\n",
      "$$28 = 2^4 + 2^3 + 2^2 = 011100_b$$"
     ]
    },
    {
     "cell_type": "markdown",
     "metadata": {},
     "source": [
      "* Bit shifts"
     ]
    },
    {
     "cell_type": "code",
     "collapsed": false,
     "input": [
      "print(\"41 >> 1 =\", 41 >> 1)\n",
      "print(\"41 << 1 =\", 41 << 1)"
     ],
     "language": "python",
     "metadata": {},
     "outputs": [
      {
       "output_type": "stream",
       "stream": "stdout",
       "text": [
        "41 >> 1 = 20\n",
        "41 << 1 = 82\n"
       ]
      }
     ],
     "prompt_number": 45
    },
    {
     "cell_type": "markdown",
     "metadata": {},
     "source": [
      "We move the bits one step\n",
      "$$41 >> 1 = 101001_b >> 1 = 010100_b = 2^4 + 2^2 = 20$$\n",
      "which is equal to integer division by 2.\n",
      "\n",
      "In general\n",
      "`a >> b = a // (2**b)`"
     ]
    },
    {
     "cell_type": "markdown",
     "metadata": {},
     "source": [
      "* Bit and/or/xor"
     ]
    },
    {
     "cell_type": "code",
     "collapsed": false,
     "input": [
      "print(\"41 & 28 =\", 41 & 28)\n",
      "print(\"41 | 28 =\", 41 | 28)\n",
      "print(\"41 ^ 28 =\", 41 ^ 28)"
     ],
     "language": "python",
     "metadata": {},
     "outputs": [
      {
       "output_type": "stream",
       "stream": "stdout",
       "text": [
        "41 & 28 = 8\n",
        "41 | 28 = 61\n",
        "41 ^ 28 = 53\n"
       ]
      }
     ],
     "prompt_number": 46
    },
    {
     "cell_type": "markdown",
     "metadata": {},
     "source": [
      "You probably won't be using any of these in the course."
     ]
    },
    {
     "cell_type": "markdown",
     "metadata": {},
     "source": [
      "# Operators acting on non-scalars\n",
      "\n",
      "  * Operators are **not** the same as in Matlab\n",
      "  * Different objects work differently with operators\n",
      "  * Strings"
     ]
    },
    {
     "cell_type": "code",
     "collapsed": false,
     "input": [
      "'Hello World' * 3"
     ],
     "language": "python",
     "metadata": {},
     "outputs": [
      {
       "metadata": {},
       "output_type": "pyout",
       "prompt_number": 47,
       "text": [
        "'Hello WorldHello WorldHello World'"
       ]
      }
     ],
     "prompt_number": 47
    },
    {
     "cell_type": "code",
     "collapsed": false,
     "input": [
      "'Hello' + ' ' + 'World'"
     ],
     "language": "python",
     "metadata": {},
     "outputs": [
      {
       "metadata": {},
       "output_type": "pyout",
       "prompt_number": 48,
       "text": [
        "'Hello World'"
       ]
      }
     ],
     "prompt_number": 48
    },
    {
     "cell_type": "markdown",
     "metadata": {},
     "source": [
      "  * Lists (similar to strings)"
     ]
    },
    {
     "cell_type": "code",
     "collapsed": false,
     "input": [
      "[1, 2, 3] * 3"
     ],
     "language": "python",
     "metadata": {},
     "outputs": [
      {
       "metadata": {},
       "output_type": "pyout",
       "prompt_number": 49,
       "text": [
        "[1, 2, 3, 1, 2, 3, 1, 2, 3]"
       ]
      }
     ],
     "prompt_number": 49
    },
    {
     "cell_type": "code",
     "collapsed": false,
     "input": [
      "[1, 2, 3] + [4, 5]"
     ],
     "language": "python",
     "metadata": {},
     "outputs": [
      {
       "metadata": {},
       "output_type": "pyout",
       "prompt_number": 50,
       "text": [
        "[1, 2, 3, 4, 5]"
       ]
      }
     ],
     "prompt_number": 50
    },
    {
     "cell_type": "markdown",
     "metadata": {},
     "source": [
      "  * NumPy arrays will overload operators and do different things!\n",
      "    Test in the interpreter whenever you are unsure."
     ]
    },
    {
     "cell_type": "heading",
     "level": 1,
     "metadata": {},
     "source": [
      "Conditionals"
     ]
    },
    {
     "cell_type": "heading",
     "level": 1,
     "metadata": {},
     "source": [
      "For-loops"
     ]
    },
    {
     "cell_type": "markdown",
     "metadata": {},
     "source": [
      "  * Looping over ranges.\n",
      "    Similar to Matlabs colon operator\n",
      "    \n",
      "    `range(a, b, c) ~ a : c : (b-1) `"
     ]
    },
    {
     "cell_type": "code",
     "collapsed": false,
     "input": [
      "for i in range(5):\n",
      "    print(i, end=', ')"
     ],
     "language": "python",
     "metadata": {},
     "outputs": [
      {
       "output_type": "stream",
       "stream": "stdout",
       "text": [
        "0, 1, 2, 3, 4, "
       ]
      }
     ],
     "prompt_number": 51
    },
    {
     "cell_type": "code",
     "collapsed": false,
     "input": [
      "for i in range(1, 10, 2):\n",
      "    print(i, end=', ')"
     ],
     "language": "python",
     "metadata": {},
     "outputs": [
      {
       "output_type": "stream",
       "stream": "stdout",
       "text": [
        "1, 3, 5, 7, 9, "
       ]
      }
     ],
     "prompt_number": 52
    },
    {
     "cell_type": "heading",
     "level": 1,
     "metadata": {},
     "source": [
      "Functions"
     ]
    },
    {
     "cell_type": "heading",
     "level": 2,
     "metadata": {},
     "source": [
      "Return values"
     ]
    },
    {
     "cell_type": "code",
     "collapsed": false,
     "input": [
      "def multiReturnFunction(x):\n",
      "    return (x, x**2, x**3)"
     ],
     "language": "python",
     "metadata": {},
     "outputs": [],
     "prompt_number": 53
    },
    {
     "cell_type": "code",
     "collapsed": false,
     "input": [
      "x = multiReturnFunction(3)\n",
      "print('x =', x)\n",
      "a, b, c = multiReturnFunction(3)\n",
      "print('a =', a, '\\nb =', b, '\\nc =', c)"
     ],
     "language": "python",
     "metadata": {},
     "outputs": [
      {
       "output_type": "stream",
       "stream": "stdout",
       "text": [
        "x = (3, 9, 27)\n",
        "a = 3 \n",
        "b = 9 \n",
        "c = 27\n"
       ]
      }
     ],
     "prompt_number": 54
    },
    {
     "cell_type": "markdown",
     "metadata": {},
     "source": [
      "* Wrong number of return arguments will lead to errors."
     ]
    },
    {
     "cell_type": "code",
     "collapsed": false,
     "input": [
      "a, b = multiReturnFunction(3)"
     ],
     "language": "python",
     "metadata": {},
     "outputs": [
      {
       "ename": "ValueError",
       "evalue": "too many values to unpack (expected 2)",
       "output_type": "pyerr",
       "traceback": [
        "\u001b[1;31m---------------------------------------------------------------------------\u001b[0m\n\u001b[1;31mValueError\u001b[0m                                Traceback (most recent call last)",
        "\u001b[1;32m<ipython-input-55-06c17a644eca>\u001b[0m in \u001b[0;36m<module>\u001b[1;34m()\u001b[0m\n\u001b[1;32m----> 1\u001b[1;33m \u001b[0ma\u001b[0m\u001b[1;33m,\u001b[0m \u001b[0mb\u001b[0m \u001b[1;33m=\u001b[0m \u001b[0mmultiReturnFunction\u001b[0m\u001b[1;33m(\u001b[0m\u001b[1;36m3\u001b[0m\u001b[1;33m)\u001b[0m\u001b[1;33m\u001b[0m\u001b[0m\n\u001b[0m",
        "\u001b[1;31mValueError\u001b[0m: too many values to unpack (expected 2)"
       ]
      }
     ],
     "prompt_number": 55
    },
    {
     "cell_type": "heading",
     "level": 2,
     "metadata": {},
     "source": [
      "Optional arguments"
     ]
    },
    {
     "cell_type": "markdown",
     "metadata": {},
     "source": [
      " * Has to be in the end of the list"
     ]
    },
    {
     "cell_type": "code",
     "collapsed": false,
     "input": [
      "def myFunction(a, b=2, c=3):\n",
      "   return a + b**c"
     ],
     "language": "python",
     "metadata": {},
     "outputs": []
    },
    {
     "cell_type": "markdown",
     "metadata": {},
     "source": [
      "* These all give the same result"
     ]
    },
    {
     "cell_type": "code",
     "collapsed": false,
     "input": [
      "print(myFunction(1, 2, 3))\n",
      "print(myFunction(1, 2))\n",
      "print(myFunction(1))"
     ],
     "language": "python",
     "metadata": {},
     "outputs": []
    },
    {
     "cell_type": "heading",
     "level": 2,
     "metadata": {},
     "source": [
      "Named arguments"
     ]
    },
    {
     "cell_type": "markdown",
     "metadata": {},
     "source": [
      " * You set function parameters by name"
     ]
    },
    {
     "cell_type": "code",
     "collapsed": false,
     "input": [
      "print(myFunction(a=1, b=2, c=3))\n",
      "print(myFunction(  1, b=2, c=3))\n",
      "print(myFunction(  1,   2, c=3))\n",
      "print(myFunction(  1, c=3, b=2))\n",
      "print(myFunction(  1, c=3))\n",
      "print(myFunction(a=1, c=3))"
     ],
     "language": "python",
     "metadata": {},
     "outputs": []
    },
    {
     "cell_type": "code",
     "collapsed": false,
     "input": [
      "myFunction(a=1, 2, 3) # Not OK!\n",
      "myFunction(1, b=2, 3) # Not OK!"
     ],
     "language": "python",
     "metadata": {},
     "outputs": []
    },
    {
     "cell_type": "heading",
     "level": 1,
     "metadata": {},
     "source": [
      "String formatting"
     ]
    },
    {
     "cell_type": "code",
     "collapsed": false,
     "input": [
      "print('{} sure is {}'.format('Python', 'fun'))"
     ],
     "language": "python",
     "metadata": {},
     "outputs": [
      {
       "metadata": {},
       "output_type": "pyout",
       "prompt_number": 64,
       "text": [
        "'Python sure is fun'"
       ]
      }
     ],
     "prompt_number": 64
    },
    {
     "cell_type": "code",
     "collapsed": false,
     "input": [
      "print('{}'.format(sqrt(2)))\n",
      "print('{:e}'.format(sqrt(2)))\n",
      "print('{:.3e}'.format(sqrt(2)))"
     ],
     "language": "python",
     "metadata": {},
     "outputs": [
      {
       "output_type": "stream",
       "stream": "stdout",
       "text": [
        "1.4142135623730951\n",
        "1.414214e+00\n",
        "1.414e+00\n"
       ]
      }
     ],
     "prompt_number": 92
    },
    {
     "cell_type": "code",
     "collapsed": false,
     "input": [
      "print('{}'.format(1e30))\n",
      "print('{:f}'.format(1e30))"
     ],
     "language": "python",
     "metadata": {},
     "outputs": [
      {
       "output_type": "stream",
       "stream": "stdout",
       "text": [
        "1e+30\n",
        "1000000000000000019884624838656.000000\n"
       ]
      }
     ],
     "prompt_number": 93
    },
    {
     "cell_type": "code",
     "collapsed": false,
     "input": [],
     "language": "python",
     "metadata": {},
     "outputs": []
    }
   ],
   "metadata": {}
  }
 ]
}