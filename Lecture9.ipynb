{
 "metadata": {
  "name": "",
  "signature": "sha256:a2ce3feb2738218145bb15760ab0af420e6e61c4356541f85ba2c72ca2b2c0fb"
 },
 "nbformat": 3,
 "nbformat_minor": 0,
 "worksheets": [
  {
   "cells": [
    {
     "cell_type": "markdown",
     "metadata": {},
     "source": [
      "Lecture 9 will cover iterators, operator overloading, and exceptions.\n",
      "\n",
      "Reference\n",
      " * [1] Chapter \n",
      " * [2] Section 9.8-9.10"
     ]
    },
    {
     "cell_type": "heading",
     "level": 1,
     "metadata": {},
     "source": [
      "Error handling"
     ]
    },
    {
     "cell_type": "markdown",
     "metadata": {},
     "source": [
      "When dealing with user input, errors are almost inevitable. It's hard to beforehand know if something will raise an exception (i.e. cause an error)\n",
      "\n",
      "The way to deal with this is to *try* to execute segments, and deal with the errors if they occur:"
     ]
    },
    {
     "cell_type": "code",
     "collapsed": false,
     "input": [
      "for x in range(2,-1,-1):\n",
      "    try:\n",
      "        print(1.0 / x)\n",
      "    except:\n",
      "        print(\"inf\")"
     ],
     "language": "python",
     "metadata": {},
     "outputs": [
      {
       "output_type": "stream",
       "stream": "stdout",
       "text": [
        "0.5\n",
        "1.0\n",
        "inf\n"
       ]
      }
     ],
     "prompt_number": 24
    },
    {
     "cell_type": "markdown",
     "metadata": {},
     "source": [
      "Though, we probably want to check *what* error occured, and deal with each specifically"
     ]
    },
    {
     "cell_type": "code",
     "collapsed": false,
     "input": [
      "for x in range(2,-1,-1):\n",
      "    try:\n",
      "        print(1.0 / y) # Opps, wrong variable, not defined\n",
      "    except:\n",
      "        print(\"inf\") # Not correct for this error"
     ],
     "language": "python",
     "metadata": {},
     "outputs": [
      {
       "output_type": "stream",
       "stream": "stdout",
       "text": [
        "inf\n",
        "inf\n",
        "inf\n"
       ]
      }
     ],
     "prompt_number": 25
    },
    {
     "cell_type": "code",
     "collapsed": false,
     "input": [
      "for x in range(2,-1,-1):\n",
      "    try:\n",
      "        print(1.0 / x) # Opps, wrong variable, not defined\n",
      "    except ZeroDivisionError:\n",
      "        print(\"inf\") # Not correct for this error"
     ],
     "language": "python",
     "metadata": {},
     "outputs": [
      {
       "output_type": "stream",
       "stream": "stdout",
       "text": [
        "0.5\n",
        "1.0\n",
        "inf\n"
       ]
      }
     ],
     "prompt_number": 29
    },
    {
     "cell_type": "code",
     "collapsed": false,
     "input": [
      "for x in range(2,-1,-1):\n",
      "    try:\n",
      "        print(1.0 / y) # Opps, wrong variable again\n",
      "    except ZeroDivisionError:\n",
      "        print(\"inf\")\n",
      "    except NameError:\n",
      "        print(\"Wrong symbol!\")"
     ],
     "language": "python",
     "metadata": {},
     "outputs": [
      {
       "output_type": "stream",
       "stream": "stdout",
       "text": [
        "Wrong symbol!\n",
        "Wrong symbol!\n",
        "Wrong symbol!\n"
       ]
      }
     ],
     "prompt_number": 35
    },
    {
     "cell_type": "heading",
     "level": 3,
     "metadata": {},
     "source": [
      "Using \"as\" to obtain info from errors"
     ]
    },
    {
     "cell_type": "code",
     "collapsed": false,
     "input": [
      "import sys\n",
      "\n",
      "try:\n",
      "    f = open('myfile.txt')\n",
      "    s = f.readline()\n",
      "    i = int(s.strip())\n",
      "except OSError as err:\n",
      "    print(\"OS error: {0}\".format(err))\n",
      "except ValueError:\n",
      "    print(\"Could not convert data to an integer.\")\n",
      "except:\n",
      "    print(\"Unexpected error:\", sys.exc_info()[0])\n",
      "    # We re-raise the last exception:\n",
      "    raise"
     ],
     "language": "python",
     "metadata": {},
     "outputs": [
      {
       "output_type": "stream",
       "stream": "stdout",
       "text": [
        "OS error: [Errno 2] No such file or directory: 'myfile.txt'\n"
       ]
      }
     ],
     "prompt_number": 37
    },
    {
     "cell_type": "heading",
     "level": 1,
     "metadata": {},
     "source": [
      "Making your own errors"
     ]
    },
    {
     "cell_type": "markdown",
     "metadata": {},
     "source": [
      "An exception is just a class:"
     ]
    },
    {
     "cell_type": "code",
     "collapsed": false,
     "input": [
      "class MyError(Exception):\n",
      "    def __init__(self, value):\n",
      "        self.value = value\n",
      "    def __str__(self):\n",
      "        return \"Value is \" + repr(self.value)"
     ],
     "language": "python",
     "metadata": {},
     "outputs": [],
     "prompt_number": 52
    },
    {
     "cell_type": "markdown",
     "metadata": {},
     "source": [
      "Catching the exception you can get any stored values like any object:"
     ]
    },
    {
     "cell_type": "code",
     "collapsed": false,
     "input": [
      "try:\n",
      "    raise MyError(\"oh crap\")\n",
      "except MyError as e:\n",
      "    print('My exception occurred, value:', e.value)"
     ],
     "language": "python",
     "metadata": {},
     "outputs": [
      {
       "output_type": "stream",
       "stream": "stdout",
       "text": [
        "My exception occurred, value: oh crap\n"
       ]
      }
     ],
     "prompt_number": 403
    },
    {
     "cell_type": "markdown",
     "metadata": {},
     "source": [
      "Uncaught exceptions prints the string representations of the class:"
     ]
    },
    {
     "cell_type": "code",
     "collapsed": false,
     "input": [
      "raise MyError('oops!')"
     ],
     "language": "python",
     "metadata": {},
     "outputs": [
      {
       "ename": "MyError",
       "evalue": "Value is 'oops!'",
       "output_type": "pyerr",
       "traceback": [
        "\u001b[1;31m---------------------------------------------------------------------------\u001b[0m\n\u001b[1;31mMyError\u001b[0m                                   Traceback (most recent call last)",
        "\u001b[1;32m<ipython-input-404-a0e384d42914>\u001b[0m in \u001b[0;36m<module>\u001b[1;34m()\u001b[0m\n\u001b[1;32m----> 1\u001b[1;33m \u001b[1;32mraise\u001b[0m \u001b[0mMyError\u001b[0m\u001b[1;33m(\u001b[0m\u001b[1;34m'oops!'\u001b[0m\u001b[1;33m)\u001b[0m\u001b[1;33m\u001b[0m\u001b[0m\n\u001b[0m",
        "\u001b[1;31mMyError\u001b[0m: Value is 'oops!'"
       ]
      }
     ],
     "prompt_number": 404
    },
    {
     "cell_type": "heading",
     "level": 2,
     "metadata": {},
     "source": [
      "Possible custom exceptions"
     ]
    },
    {
     "cell_type": "markdown",
     "metadata": {},
     "source": [
      "* MissingCardException (poker Hand is asked to drop cards it doesn't have)\n",
      "* OutOfMoneyException (tried to bet to high?)\n",
      "\n",
      "Probably a good idea to try to stick to the standard exceptions in many cases though."
     ]
    },
    {
     "cell_type": "heading",
     "level": 1,
     "metadata": {},
     "source": [
      "Operator overloading special methods"
     ]
    },
    {
     "cell_type": "markdown",
     "metadata": {},
     "source": [
      "You have seen a few overloaded operators, but there are several important methods.\n",
      "\n",
      "They are all named according to `__name__` convention (two underscores around the name)."
     ]
    },
    {
     "cell_type": "markdown",
     "metadata": {},
     "source": [
      "Some (possibly useful) unary operators:\n",
      "* repr: `repr(x)`Data representation\n",
      "* len: `len(x)`\n",
      "* abs: `abs(x)`\n",
      "* neg: `-a`\n",
      "\n",
      "and many other things\n",
      "\n",
      "\n",
      "Common conversions:\n",
      "* str\n",
      "* int\n",
      "* foat\n",
      "* complex\n",
      "* bool"
     ]
    },
    {
     "cell_type": "markdown",
     "metadata": {},
     "source": [
      "Lets test out a bunch of these:"
     ]
    },
    {
     "cell_type": "code",
     "collapsed": false,
     "input": [
      "class MyClass:\n",
      "    def __init__(self, x):\n",
      "        self.x = x\n",
      "\n",
      "    def __bool__(self):\n",
      "        return self.x > 0\n",
      "\n",
      "    def __len__(self):\n",
      "        return self.x\n",
      "\n",
      "    def __neg__(self):\n",
      "        return MyClass(-self.x)\n",
      "\n",
      "    def __str__(self):\n",
      "        return \"x = \" + str(self.x)\n",
      "    \n",
      "    def __repr__(self):\n",
      "        return \"MyClass(\" + repr(self.x) + \")\""
     ],
     "language": "python",
     "metadata": {},
     "outputs": [],
     "prompt_number": 203
    },
    {
     "cell_type": "code",
     "collapsed": false,
     "input": [
      "x = MyClass(3)\n",
      "\n",
      "if x:\n",
      "    print(x, \"has length\", len(x))\n",
      "-x"
     ],
     "language": "python",
     "metadata": {},
     "outputs": [
      {
       "output_type": "stream",
       "stream": "stdout",
       "text": [
        "x = 3 has length 3\n"
       ]
      },
      {
       "metadata": {},
       "output_type": "pyout",
       "prompt_number": 204,
       "text": [
        "MyClass(-3)"
       ]
      }
     ],
     "prompt_number": 204
    },
    {
     "cell_type": "heading",
     "level": 3,
     "metadata": {},
     "source": [
      "Binary operators"
     ]
    },
    {
     "cell_type": "markdown",
     "metadata": {},
     "source": [
      "There are a massive amount of binary operators one can overload: `+ * - / // | & << **`\n",
      "If is often in the case that both sides of the infix operator has the same type, and the output from the computation is also of the same type, but this is not strictly necessary.\n",
      "\n",
      "Python will call the suitable special method by doing `a + b === a.__add__(b)`, with similar names for the multitude of other operators (`mul`, `div`, etc.)\n",
      "\n",
      "Many operators have extended assignments as well, and these can be accessed through special methods as well, e.g. `a += b === a.__iadd__(b)`."
     ]
    },
    {
     "cell_type": "code",
     "collapsed": false,
     "input": [
      "class Fraction:\n",
      "    def __init__(self, num, denom):\n",
      "        self.num = num\n",
      "        self.denom = denom\n",
      "\n",
      "    def __str__(self):\n",
      "        return str(self.num) + \"/\" + str(self.denom)\n",
      "    \n",
      "    def __float__(self):\n",
      "        return self.num / self.denom\n",
      "\n",
      "    def __add__(self, other):\n",
      "        # Expecting \"other\" to be a Fraction.\n",
      "        # The result is a Fraction as well.\n",
      "        return Fraction(self.num * other.denom + other.num * self.denom,\n",
      "                        self.denom * other.denom)\n",
      "    \n",
      "    def __iadd__(self, other):\n",
      "        # iadd is the += operation\n",
      "        self.num = self.num * other.denom + other.num * self.denom\n",
      "        self.denom *= other.denom\n",
      "        return self\n",
      "        \n",
      "    def __mul__(self, other):\n",
      "        return Fraction(self.num * other.num, self.denom * other.denom)\n",
      "\n",
      "    def __pow__(self, exponent):\n",
      "        # This assumes that the exponent is an integer\n",
      "        return Fraction(self.num ** exponent, self.denom ** exponent)\n",
      "    "
     ],
     "language": "python",
     "metadata": {},
     "outputs": [],
     "prompt_number": 301
    },
    {
     "cell_type": "code",
     "collapsed": false,
     "input": [
      "x = Fraction(3, 4)\n",
      "y = Fraction(2, 3)\n",
      "\n",
      "q = y ** 2\n",
      "x += q\n",
      "z = x + y\n",
      "w = x * y\n",
      "\n",
      "print(x)\n",
      "print(float(z))\n",
      "print(q)\n",
      "print(w)"
     ],
     "language": "python",
     "metadata": {},
     "outputs": [
      {
       "output_type": "stream",
       "stream": "stdout",
       "text": [
        "43/36\n",
        "1.8611111111111112\n",
        "4/9\n",
        "86/108\n"
       ]
      }
     ],
     "prompt_number": 302
    },
    {
     "cell_type": "heading",
     "level": 3,
     "metadata": {},
     "source": [
      "Comparison operators"
     ]
    },
    {
     "cell_type": "markdown",
     "metadata": {},
     "source": [
      "Comparison operators have a few special rules, because they assume that"
     ]
    },
    {
     "cell_type": "code",
     "collapsed": false,
     "input": [
      "class MyTestClass:\n",
      "    \"\"\" A test class where only one instance \n",
      "    variable determines the comparison operators\n",
      "    \"\"\"\n",
      "    \n",
      "    def __init__(self, val, val2):\n",
      "        self.val = val\n",
      "        self.val2 = val2\n",
      "\n",
      "    def __eq__(self, other):\n",
      "        return abs(self.val) == abs(other.val)\n",
      "\n",
      "    def __lt__(self, other): # We only check the magnitude:\n",
      "        return abs(self.val) < abs(other.val)"
     ],
     "language": "python",
     "metadata": {},
     "outputs": [],
     "prompt_number": 303
    },
    {
     "cell_type": "code",
     "collapsed": false,
     "input": [
      "x = MyTestClass(-34, \"Hello\")\n",
      "y = MyTestClass(34, \"World\")\n",
      "print(x > y) # Python will look for a match, and will call y < x (which should be mathematically equivalent)\n",
      "print(x == y)"
     ],
     "language": "python",
     "metadata": {},
     "outputs": [
      {
       "output_type": "stream",
       "stream": "stdout",
       "text": [
        "False\n",
        "True\n"
       ]
      }
     ],
     "prompt_number": 304
    },
    {
     "cell_type": "heading",
     "level": 3,
     "metadata": {},
     "source": [
      "Indexing overloading"
     ]
    },
    {
     "cell_type": "code",
     "collapsed": false,
     "input": [
      "class LoggingList(list):\n",
      "    def __setitem__(self, pos, val):\n",
      "        print(\"Setting items at:\", pos)\n",
      "        super().__setitem__(pos, val)\n",
      "        \n",
      "    def __getitem__(self, pos):\n",
      "        print(\"Getting items at:\", pos)\n",
      "        return super().__getitem__(pos)\n",
      "\n",
      "    def __delitem__(self, pos):\n",
      "        print(\"Deleting items at*:\", pos)\n",
      "        return super().__delitem__(pos)\n",
      "\n",
      "    def total(self):\n",
      "        return self.total\n",
      "    "
     ],
     "language": "python",
     "metadata": {},
     "outputs": [],
     "prompt_number": 260
    },
    {
     "cell_type": "code",
     "collapsed": false,
     "input": [
      "x = LoggingList()\n",
      "x += [1,2,3,4]\n",
      "\n",
      "x[0:2] = [123, 456]\n",
      "y = x[2:]"
     ],
     "language": "python",
     "metadata": {},
     "outputs": [
      {
       "output_type": "stream",
       "stream": "stdout",
       "text": [
        "Setting items at: slice(0, 2, None)\n",
        "Getting items at: slice(2, None, None)\n"
       ]
      }
     ],
     "prompt_number": 268
    },
    {
     "cell_type": "heading",
     "level": 2,
     "metadata": {},
     "source": [
      "Comment on methods vs operators"
     ]
    },
    {
     "cell_type": "markdown",
     "metadata": {},
     "source": [
      "This kind of compact notation is often sought by programmers, why have\n",
      "```python\n",
      "x.add(y)\n",
      "```\n",
      "when you could have\n",
      "```python\n",
      "x + y\n",
      "```\n",
      "\n",
      "But it's often the case that we are not working with mathematics, but strings, lists, graphical objects, and other types of custom objects.\n",
      "Therefore, it's often not clear what the operator will actually do (languages like Java disallow this operator overloading for this reason).\n",
      "\n",
      "When comparing two Car-objects, do we just check if they are of the same model? Same color? Model and color? Same registration number? Top speed?\n",
      "\n",
      "Operators should not be overused, since it is often more clear to write a descriptive method name. Use it only when the purpose is clear."
     ]
    },
    {
     "cell_type": "heading",
     "level": 1,
     "metadata": {},
     "source": [
      "Iterators and generators"
     ]
    },
    {
     "cell_type": "markdown",
     "metadata": {},
     "source": [
      "In the course so far, we've used multiple examples of the for-loop:"
     ]
    },
    {
     "cell_type": "code",
     "collapsed": false,
     "input": [
      "for i in range(5):\n",
      "    print(i, end=\",\")"
     ],
     "language": "python",
     "metadata": {},
     "outputs": [
      {
       "output_type": "stream",
       "stream": "stdout",
       "text": [
        "0,1,2,3,4,"
       ]
      }
     ],
     "prompt_number": 305
    },
    {
     "cell_type": "code",
     "collapsed": false,
     "input": [
      "for x in \"Hello World\":\n",
      "    print(x, end=\", \")"
     ],
     "language": "python",
     "metadata": {},
     "outputs": [
      {
       "output_type": "stream",
       "stream": "stdout",
       "text": [
        "H, e, l, l, o,  , W, o, r, l, d, "
       ]
      }
     ],
     "prompt_number": 308
    },
    {
     "cell_type": "code",
     "collapsed": false,
     "input": [
      "for x in zip([6,3,4], \"ABC\"):\n",
      "    print(x, end=\", \")"
     ],
     "language": "python",
     "metadata": {},
     "outputs": [
      {
       "output_type": "stream",
       "stream": "stdout",
       "text": [
        "(6, 'A'), (3, 'B'), (4, 'C'), "
       ]
      }
     ],
     "prompt_number": 309
    },
    {
     "cell_type": "markdown",
     "metadata": {},
     "source": [
      "All these examples are very different. The `range` keeps generating new numbers until the max value is reached. In the string, we go letter by letter until the end of the string.\n",
      "The `for`-loop is compact, convenient, and easy to read."
     ]
    },
    {
     "cell_type": "heading",
     "level": 3,
     "metadata": {},
     "source": [
      "The `for`-loop"
     ]
    },
    {
     "cell_type": "markdown",
     "metadata": {},
     "source": [
      "Lets assume we have a loop like:\n",
      "```python\n",
      "for a in b:\n",
      "    ...\n",
      "```\n",
      "When the `for`-loop starts, it asks for\n",
      "```python\n",
      "it = iter(b)\n",
      "```\n",
      "and then it asks for\n",
      "```python\n",
      "a = next(it)\n",
      "```\n",
      "until a `StopIteration`-exception is raised."
     ]
    },
    {
     "cell_type": "markdown",
     "metadata": {},
     "source": [
      "Lets try it out, step-by-step"
     ]
    },
    {
     "cell_type": "code",
     "collapsed": false,
     "input": [
      "b = \"Hello\"\n",
      "it = iter(b)\n",
      "print(it)"
     ],
     "language": "python",
     "metadata": {},
     "outputs": [
      {
       "output_type": "stream",
       "stream": "stdout",
       "text": [
        "<str_iterator object at 0x7f8b6016d710>\n"
       ]
      }
     ],
     "prompt_number": 319
    },
    {
     "cell_type": "code",
     "collapsed": false,
     "input": [
      "print( next(it) )\n",
      "print( next(it) )\n",
      "print( next(it) )\n",
      "print( next(it) )\n",
      "print( next(it) )"
     ],
     "language": "python",
     "metadata": {},
     "outputs": [
      {
       "output_type": "stream",
       "stream": "stdout",
       "text": [
        "H\n",
        "e\n",
        "l\n",
        "l\n",
        "o\n"
       ]
      }
     ],
     "prompt_number": 320
    },
    {
     "cell_type": "markdown",
     "metadata": {},
     "source": [
      "So far so good, what happens when we ask one more time?"
     ]
    },
    {
     "cell_type": "code",
     "collapsed": false,
     "input": [
      "next(it)"
     ],
     "language": "python",
     "metadata": {},
     "outputs": [
      {
       "ename": "StopIteration",
       "evalue": "",
       "output_type": "pyerr",
       "traceback": [
        "\u001b[1;31m---------------------------------------------------------------------------\u001b[0m\n\u001b[1;31mStopIteration\u001b[0m                             Traceback (most recent call last)",
        "\u001b[1;32m<ipython-input-321-2cdb14c0d4d6>\u001b[0m in \u001b[0;36m<module>\u001b[1;34m()\u001b[0m\n\u001b[1;32m----> 1\u001b[1;33m \u001b[0mnext\u001b[0m\u001b[1;33m(\u001b[0m\u001b[0mit\u001b[0m\u001b[1;33m)\u001b[0m\u001b[1;33m\u001b[0m\u001b[0m\n\u001b[0m",
        "\u001b[1;31mStopIteration\u001b[0m: "
       ]
      }
     ],
     "prompt_number": 321
    },
    {
     "cell_type": "heading",
     "level": 3,
     "metadata": {},
     "source": [
      "Lets create a custom generator"
     ]
    },
    {
     "cell_type": "code",
     "collapsed": false,
     "input": [
      "class CollatzGenerator:\n",
      "    def __init__(self, n):\n",
      "        self.n = n\n",
      "\n",
      "    def __iter__(self):\n",
      "        # We'll reuse the class generator itself \n",
      "        # as the iterator for this simple case\n",
      "        return self\n",
      "    \n",
      "    def __next__(self):\n",
      "        if self.n == 1:\n",
      "            raise StopIteration\n",
      "        if self.n % 2 == 0:\n",
      "            self.n //= 2\n",
      "        else:\n",
      "            self.n = self.n*3 + 1\n",
      "        \n",
      "        return self.n"
     ],
     "language": "python",
     "metadata": {},
     "outputs": [],
     "prompt_number": 337
    },
    {
     "cell_type": "code",
     "collapsed": false,
     "input": [
      "# This should produce 3, 10, 5, 16, 8, 4, 2, 1.\n",
      "x = CollatzGenerator(6)\n",
      "for n in x:\n",
      "    print(n, end=\", \")"
     ],
     "language": "python",
     "metadata": {},
     "outputs": [
      {
       "output_type": "stream",
       "stream": "stdout",
       "text": [
        "3, 10, 5, 16, 8, 4, 2, 1, "
       ]
      }
     ],
     "prompt_number": 339
    },
    {
     "cell_type": "markdown",
     "metadata": {},
     "source": [
      "Note! In this `CollatzGenerator`, the iterator is the same as the generator itself.\n",
      "If we try to use `x` again, it will already have reached 1, as the (modified) iterator *is* the generator."
     ]
    },
    {
     "cell_type": "code",
     "collapsed": false,
     "input": [
      "print( x.n )"
     ],
     "language": "python",
     "metadata": {},
     "outputs": [
      {
       "output_type": "stream",
       "stream": "stdout",
       "text": [
        "1\n"
       ]
      }
     ],
     "prompt_number": 340
    },
    {
     "cell_type": "heading",
     "level": 1,
     "metadata": {},
     "source": [
      "Enums"
     ]
    },
    {
     "cell_type": "markdown",
     "metadata": {},
     "source": [
      "Often, we want to store a simple state, for example, whether a game is\n",
      "* Not started\n",
      "* Stared\n",
      "* Ended\n",
      "* Paused\n",
      "and we want to quickly have logic that can check for these states:\n",
      "\n",
      "```python\n",
      "if game.status() == \"not started\":\n",
      "    game.start()\n",
      "```\n",
      "\n",
      "But comparing with strings is a bit slow (if the use case is more performance critical), and also introduces the possibilities of having a typo. It's generally frowned upon to keep hard-coded values (including strings) spread out throughout the code as well.\n",
      "\n",
      "The solution? Enums."
     ]
    },
    {
     "cell_type": "code",
     "collapsed": false,
     "input": [
      "import enum\n",
      "\n",
      "class GameState(enum.Enum):\n",
      "    NotStarted = 0\n",
      "    Started = 1\n",
      "    Ended = 2\n",
      "    Paused = 3"
     ],
     "language": "python",
     "metadata": {},
     "outputs": [],
     "prompt_number": 389
    },
    {
     "cell_type": "markdown",
     "metadata": {},
     "source": [
      "These variables can be cheaply compared, with the extra safety of typing, completion, etc.:"
     ]
    },
    {
     "cell_type": "code",
     "collapsed": true,
     "input": [
      "for g in GameState: # We can loop over them!\n",
      "    print(g)\n",
      "# And compare them\n",
      "print(GameState.Paused == GameState.Paused)\n",
      "print(GameState.Paused != GameState.Ended)"
     ],
     "language": "python",
     "metadata": {},
     "outputs": [
      {
       "output_type": "stream",
       "stream": "stdout",
       "text": [
        "GameState.NotStarted\n",
        "GameState.Started\n",
        "GameState.Ended\n",
        "GameState.Paused\n",
        "True\n",
        "True\n"
       ]
      }
     ],
     "prompt_number": 390
    },
    {
     "cell_type": "markdown",
     "metadata": {},
     "source": [
      "We can also create IntEnum classes"
     ]
    },
    {
     "cell_type": "code",
     "collapsed": false,
     "input": [
      "class GameState2(enum.IntEnum):\n",
      "    NotStarted = 0\n",
      "    Started = 1\n",
      "    Ended = 2\n",
      "    Paused = 3"
     ],
     "language": "python",
     "metadata": {},
     "outputs": [],
     "prompt_number": 395
    },
    {
     "cell_type": "markdown",
     "metadata": {},
     "source": [
      "Which lets us convert values to integers"
     ]
    },
    {
     "cell_type": "code",
     "collapsed": false,
     "input": [
      "GameState2.Started + 2"
     ],
     "language": "python",
     "metadata": {},
     "outputs": [
      {
       "metadata": {},
       "output_type": "pyout",
       "prompt_number": 398,
       "text": [
        "3"
       ]
      }
     ],
     "prompt_number": 398
    },
    {
     "cell_type": "markdown",
     "metadata": {},
     "source": [
      "which is explictly disallowed with normal Enums (a type safety thing)"
     ]
    },
    {
     "cell_type": "code",
     "collapsed": false,
     "input": [
      "GameState.Started + 2"
     ],
     "language": "python",
     "metadata": {},
     "outputs": [
      {
       "ename": "TypeError",
       "evalue": "unsupported operand type(s) for +: 'GameState' and 'int'",
       "output_type": "pyerr",
       "traceback": [
        "\u001b[1;31m---------------------------------------------------------------------------\u001b[0m\n\u001b[1;31mTypeError\u001b[0m                                 Traceback (most recent call last)",
        "\u001b[1;32m<ipython-input-399-f7f3b03a0ba6>\u001b[0m in \u001b[0;36m<module>\u001b[1;34m()\u001b[0m\n\u001b[1;32m----> 1\u001b[1;33m \u001b[0mGameState\u001b[0m\u001b[1;33m.\u001b[0m\u001b[0mStarted\u001b[0m \u001b[1;33m+\u001b[0m \u001b[1;36m2\u001b[0m\u001b[1;33m\u001b[0m\u001b[0m\n\u001b[0m",
        "\u001b[1;31mTypeError\u001b[0m: unsupported operand type(s) for +: 'GameState' and 'int'"
       ]
      }
     ],
     "prompt_number": 399
    },
    {
     "cell_type": "markdown",
     "metadata": {},
     "source": [
      "There is a handy decorator which ensures uniqueness of the values in the enum (often the case):"
     ]
    },
    {
     "cell_type": "code",
     "collapsed": true,
     "input": [
      "@enum.unique\n",
      "class GameState2(enum.IntEnum):\n",
      "    NotStarted = 0\n",
      "    Started = 1\n",
      "    Ended = 2\n",
      "    Paused = 2 # Opps"
     ],
     "language": "python",
     "metadata": {},
     "outputs": [
      {
       "ename": "ValueError",
       "evalue": "duplicate values found in <enum 'GameState2'>: Paused -> Ended",
       "output_type": "pyerr",
       "traceback": [
        "\u001b[1;31m---------------------------------------------------------------------------\u001b[0m\n\u001b[1;31mValueError\u001b[0m                                Traceback (most recent call last)",
        "\u001b[1;32m<ipython-input-401-9edbad22f5b8>\u001b[0m in \u001b[0;36m<module>\u001b[1;34m()\u001b[0m\n\u001b[0;32m      1\u001b[0m \u001b[1;33m@\u001b[0m\u001b[0menum\u001b[0m\u001b[1;33m.\u001b[0m\u001b[0munique\u001b[0m\u001b[1;33m\u001b[0m\u001b[0m\n\u001b[1;32m----> 2\u001b[1;33m \u001b[1;32mclass\u001b[0m \u001b[0mGameState2\u001b[0m\u001b[1;33m(\u001b[0m\u001b[0menum\u001b[0m\u001b[1;33m.\u001b[0m\u001b[0mIntEnum\u001b[0m\u001b[1;33m)\u001b[0m\u001b[1;33m:\u001b[0m\u001b[1;33m\u001b[0m\u001b[0m\n\u001b[0m\u001b[0;32m      3\u001b[0m     \u001b[0mNotStarted\u001b[0m \u001b[1;33m=\u001b[0m \u001b[1;36m0\u001b[0m\u001b[1;33m\u001b[0m\u001b[0m\n\u001b[0;32m      4\u001b[0m     \u001b[0mStarted\u001b[0m \u001b[1;33m=\u001b[0m \u001b[1;36m1\u001b[0m\u001b[1;33m\u001b[0m\u001b[0m\n\u001b[0;32m      5\u001b[0m     \u001b[0mEnded\u001b[0m \u001b[1;33m=\u001b[0m \u001b[1;36m2\u001b[0m\u001b[1;33m\u001b[0m\u001b[0m\n",
        "\u001b[1;32m/usr/lib64/python3.4/enum.py\u001b[0m in \u001b[0;36munique\u001b[1;34m(enumeration)\u001b[0m\n\u001b[0;32m    522\u001b[0m                 [\"%s -> %s\" % (alias, name) for (alias, name) in duplicates])\n\u001b[0;32m    523\u001b[0m         raise ValueError('duplicate values found in %r: %s' %\n\u001b[1;32m--> 524\u001b[1;33m                 (enumeration, alias_details))\n\u001b[0m\u001b[0;32m    525\u001b[0m     \u001b[1;32mreturn\u001b[0m \u001b[0menumeration\u001b[0m\u001b[1;33m\u001b[0m\u001b[0m\n",
        "\u001b[1;31mValueError\u001b[0m: duplicate values found in <enum 'GameState2'>: Paused -> Ended"
       ]
      }
     ],
     "prompt_number": 401
    }
   ],
   "metadata": {}
  }
 ]
}